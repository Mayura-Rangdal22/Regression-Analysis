{
 "cells": [
  {
   "cell_type": "code",
   "execution_count": 1,
   "id": "ac41367e",
   "metadata": {},
   "outputs": [],
   "source": [
    "import pandas as pd\n",
    "import numpy as np\n",
    "import matplotlib.pyplot as plt\n",
    "from sklearn.model_selection import train_test_split\n",
    "from sklearn.linear_model import LinearRegression, Ridge, Lasso\n",
    "from sklearn.metrics import r2_score, mean_squared_error\n",
    "from sklearn.preprocessing import StandardScaler"
   ]
  },
  {
   "cell_type": "code",
   "execution_count": 2,
   "id": "6550890c",
   "metadata": {},
   "outputs": [],
   "source": [
    "data = pd.read_csv(\"uber.csv\")"
   ]
  },
  {
   "cell_type": "markdown",
   "id": "c08c67db",
   "metadata": {},
   "source": [
    "1.Pre-process the dataset."
   ]
  },
  {
   "cell_type": "code",
   "execution_count": 3,
   "id": "8e76019a",
   "metadata": {},
   "outputs": [],
   "source": [
    "data = data.dropna()"
   ]
  },
  {
   "cell_type": "code",
   "execution_count": 4,
   "id": "155169e8",
   "metadata": {},
   "outputs": [
    {
     "name": "stdout",
     "output_type": "stream",
     "text": [
      "<class 'pandas.core.frame.DataFrame'>\n",
      "Index: 199999 entries, 0 to 199999\n",
      "Data columns (total 9 columns):\n",
      " #   Column             Non-Null Count   Dtype  \n",
      "---  ------             --------------   -----  \n",
      " 0   Unnamed: 0         199999 non-null  int64  \n",
      " 1   key                199999 non-null  object \n",
      " 2   fare_amount        199999 non-null  float64\n",
      " 3   pickup_datetime    199999 non-null  object \n",
      " 4   pickup_longitude   199999 non-null  float64\n",
      " 5   pickup_latitude    199999 non-null  float64\n",
      " 6   dropoff_longitude  199999 non-null  float64\n",
      " 7   dropoff_latitude   199999 non-null  float64\n",
      " 8   passenger_count    199999 non-null  int64  \n",
      "dtypes: float64(5), int64(2), object(2)\n",
      "memory usage: 15.3+ MB\n",
      "None\n"
     ]
    }
   ],
   "source": [
    "print(data.info())"
   ]
  },
  {
   "cell_type": "code",
   "execution_count": 5,
   "id": "601e346b",
   "metadata": {},
   "outputs": [],
   "source": [
    "#Convert the 'pickup_datetime' column to a datetime object\n",
    "data['pickup_datetime'] = pd.to_datetime(data['pickup_datetime'])\n",
    "\n",
    "# Extract the date and time components into separate columns\n",
    "data['pickup_date'] = data['pickup_datetime'].dt.date\n",
    "data['pickup_time'] = data['pickup_datetime'].dt.time"
   ]
  },
  {
   "cell_type": "code",
   "execution_count": 6,
   "id": "f79c8ec2",
   "metadata": {},
   "outputs": [
    {
     "name": "stdout",
     "output_type": "stream",
     "text": [
      "       pickup_date pickup_time\n",
      "0       2015-05-07    19:52:06\n",
      "1       2009-07-17    20:04:56\n",
      "2       2009-08-24    21:45:00\n",
      "3       2009-06-26    08:22:21\n",
      "4       2014-08-28    17:47:00\n",
      "...            ...         ...\n",
      "199995  2012-10-28    10:49:00\n",
      "199996  2014-03-14    01:09:00\n",
      "199997  2009-06-29    00:42:00\n",
      "199998  2015-05-20    14:56:25\n",
      "199999  2010-05-15    04:08:00\n",
      "\n",
      "[199999 rows x 2 columns]\n"
     ]
    }
   ],
   "source": [
    "data = data.drop(columns=['pickup_datetime'])\n",
    "print(data[['pickup_date', 'pickup_time']])"
   ]
  },
  {
   "cell_type": "code",
   "execution_count": 7,
   "id": "0f69c0a5",
   "metadata": {},
   "outputs": [],
   "source": [
    "data['pickup_time_seconds'] = data['pickup_time'].apply(lambda x: x.hour * 3600 + x.minute * 60 + x.second)\n",
    "# Convert 'pickup_time_seconds' to float\n",
    "data['pickup_time_seconds'] = data['pickup_time_seconds'].astype(float)"
   ]
  },
  {
   "cell_type": "code",
   "execution_count": 8,
   "id": "e1bdef9e",
   "metadata": {},
   "outputs": [],
   "source": [
    "data = data.drop(columns=['pickup_time'])"
   ]
  },
  {
   "cell_type": "code",
   "execution_count": 9,
   "id": "b08085eb",
   "metadata": {},
   "outputs": [],
   "source": [
    "data = data.drop(columns=['key'])"
   ]
  },
  {
   "cell_type": "code",
   "execution_count": 10,
   "id": "05d29258",
   "metadata": {},
   "outputs": [],
   "source": [
    "data['pickup_date'] = pd.to_datetime(data['pickup_date'])\n",
    "\n",
    "# Define a reference date (you can change this as needed)\n",
    "reference_date = pd.Timestamp('2000-01-01')\n",
    "\n",
    "# Calculate the difference in days between each date and the reference date\n",
    "data['pickup_date'] = (data['pickup_date'] - reference_date).dt.days.astype(float)"
   ]
  },
  {
   "cell_type": "markdown",
   "id": "775eeb5f",
   "metadata": {},
   "source": [
    "2. Outliers"
   ]
  },
  {
   "cell_type": "code",
   "execution_count": 11,
   "id": "f0439515",
   "metadata": {},
   "outputs": [
    {
     "name": "stdout",
     "output_type": "stream",
     "text": [
      "        Unnamed: 0  fare_amount  pickup_longitude  pickup_latitude  \\\n",
      "48        22405517        56.80        -73.993498        40.764686   \n",
      "84        25485719        49.57        -73.975058        40.788820   \n",
      "104       46435788        43.00        -73.862701        40.768959   \n",
      "204        6403066        45.00        -73.971663        40.757812   \n",
      "226       24085207        49.80        -73.992122        40.748577   \n",
      "...            ...          ...               ...              ...   \n",
      "199914    17686068        57.33        -73.776778        40.645427   \n",
      "199972    31236221        45.00        -73.786833        40.639842   \n",
      "199976     1780041        49.70        -73.978225        40.783318   \n",
      "199977    21117828        43.50        -73.996671        40.737483   \n",
      "199982    13096190        57.33        -73.969204        40.754771   \n",
      "\n",
      "        dropoff_longitude  dropoff_latitude  passenger_count  pickup_date  \\\n",
      "48             -73.993498         40.764686                1       4751.0   \n",
      "84             -73.975058         40.788820                1       3506.0   \n",
      "104            -73.999092         40.741829                2       5613.0   \n",
      "204            -73.789273         40.641790                1       3969.0   \n",
      "226            -73.806072         40.665272                1       4593.0   \n",
      "...                   ...               ...              ...          ...   \n",
      "199914         -73.948572         40.789107                5       5431.0   \n",
      "199972         -74.001215         40.722429                1       3884.0   \n",
      "199976         -73.700963         40.705852                1       4308.0   \n",
      "199977         -73.867758         40.897563                1       4707.0   \n",
      "199982         -73.790351         40.643802                1       5331.0   \n",
      "\n",
      "        pickup_time_seconds   z_score  \n",
      "48                  80681.0  4.589106  \n",
      "84                  38587.0  3.858931  \n",
      "104                 68296.0  3.195410  \n",
      "204                 26460.0  3.397395  \n",
      "226                 61476.0  3.882159  \n",
      "...                     ...       ...  \n",
      "199914              19500.0  4.642632  \n",
      "199972              47995.0  3.397395  \n",
      "199976              85980.0  3.872060  \n",
      "199977              75870.0  3.245907  \n",
      "199982              39966.0  4.642632  \n",
      "\n",
      "[5450 rows x 10 columns]\n"
     ]
    }
   ],
   "source": [
    "from scipy import stats\n",
    "\n",
    "# Calculate the Z-scores for the 'fare_amount' column\n",
    "data['z_score'] = stats.zscore(data['fare_amount'])\n",
    "\n",
    "# Define a threshold for identifying outliers\n",
    "threshold = 3\n",
    "\n",
    "# Create a boolean mask to identify outliers\n",
    "outliers_mask = (data['z_score'] > threshold) | (data['z_score'] < -threshold)\n",
    "\n",
    "# Extract the outliers\n",
    "outliers = data[outliers_mask]\n",
    "\n",
    "# Print the outliers\n",
    "print(outliers)\n"
   ]
  },
  {
   "cell_type": "code",
   "execution_count": 12,
   "id": "52fc1f2e",
   "metadata": {},
   "outputs": [
    {
     "name": "stdout",
     "output_type": "stream",
     "text": [
      "        Unnamed: 0  fare_amount  pickup_longitude  pickup_latitude  \\\n",
      "0         24238194          7.5        -73.999817        40.738354   \n",
      "1         27835199          7.7        -73.994355        40.728225   \n",
      "2         44984355         12.9        -74.005043        40.740770   \n",
      "3         25894730          5.3        -73.976124        40.790844   \n",
      "4         17610152         16.0        -73.925023        40.744085   \n",
      "...            ...          ...               ...              ...   \n",
      "199995    42598914          3.0        -73.987042        40.739367   \n",
      "199996    16382965          7.5        -73.984722        40.736837   \n",
      "199997    27804658         30.9        -73.986017        40.756487   \n",
      "199998    20259894         14.5        -73.997124        40.725452   \n",
      "199999    11951496         14.1        -73.984395        40.720077   \n",
      "\n",
      "        dropoff_longitude  dropoff_latitude  passenger_count  pickup_date  \\\n",
      "0              -73.999512         40.723217                1       5605.0   \n",
      "1              -73.994710         40.750325                1       3485.0   \n",
      "2              -73.962565         40.772647                1       3523.0   \n",
      "3              -73.965316         40.803349                3       3464.0   \n",
      "4              -73.973082         40.761247                5       5353.0   \n",
      "...                   ...               ...              ...          ...   \n",
      "199995         -73.986525         40.740297                1       4684.0   \n",
      "199996         -74.006672         40.739620                1       5186.0   \n",
      "199997         -73.858957         40.692588                2       3467.0   \n",
      "199998         -73.983215         40.695416                1       5618.0   \n",
      "199999         -73.985508         40.768793                1       3787.0   \n",
      "\n",
      "        pickup_time_seconds   z_score  \n",
      "0                   71526.0 -0.389820  \n",
      "1                   72296.0 -0.369621  \n",
      "2                   78300.0  0.155539  \n",
      "3                   30141.0 -0.612003  \n",
      "4                   64020.0  0.468616  \n",
      "...                     ...       ...  \n",
      "199995              38940.0 -0.844286  \n",
      "199996               4140.0 -0.389820  \n",
      "199997               2520.0  1.973402  \n",
      "199998              53785.0  0.317127  \n",
      "199999              14880.0  0.276730  \n",
      "\n",
      "[194549 rows x 10 columns]\n"
     ]
    }
   ],
   "source": [
    "data = data[~outliers_mask]\n",
    "print(data)"
   ]
  },
  {
   "cell_type": "markdown",
   "id": "6e06e50e",
   "metadata": {},
   "source": [
    "3.correlation_matrix"
   ]
  },
  {
   "cell_type": "code",
   "execution_count": 13,
   "id": "e9a11b39",
   "metadata": {},
   "outputs": [
    {
     "name": "stdout",
     "output_type": "stream",
     "text": [
      "                     Unnamed: 0  fare_amount  pickup_longitude  \\\n",
      "Unnamed: 0             1.000000    -0.000381          0.000649   \n",
      "fare_amount           -0.000381     1.000000         -0.000925   \n",
      "pickup_longitude       0.000649    -0.000925          1.000000   \n",
      "pickup_latitude       -0.000741     0.001456         -0.811977   \n",
      "dropoff_longitude      0.000625    -0.002646          0.832288   \n",
      "dropoff_latitude      -0.000140     0.001663         -0.846307   \n",
      "passenger_count        0.002658     0.011326         -0.000787   \n",
      "pickup_date           -0.001252     0.132535          0.008925   \n",
      "pickup_time_seconds    0.000538    -0.023549          0.002938   \n",
      "z_score               -0.000381     1.000000         -0.000925   \n",
      "\n",
      "                     pickup_latitude  dropoff_longitude  dropoff_latitude  \\\n",
      "Unnamed: 0                 -0.000741           0.000625         -0.000140   \n",
      "fare_amount                 0.001456          -0.002646          0.001663   \n",
      "pickup_longitude           -0.811977           0.832288         -0.846307   \n",
      "pickup_latitude             1.000000          -0.772822          0.696640   \n",
      "dropoff_longitude          -0.772822           1.000000         -0.915675   \n",
      "dropoff_latitude            0.696640          -0.915675          1.000000   \n",
      "passenger_count            -0.001217          -0.000151         -0.000387   \n",
      "pickup_date                -0.009227           0.006943         -0.009638   \n",
      "pickup_time_seconds        -0.004430           0.003932         -0.003091   \n",
      "z_score                     0.001456          -0.002646          0.001663   \n",
      "\n",
      "                     passenger_count  pickup_date  pickup_time_seconds  \\\n",
      "Unnamed: 0                  0.002658    -0.001252             0.000538   \n",
      "fare_amount                 0.011326     0.132535            -0.023549   \n",
      "pickup_longitude           -0.000787     0.008925             0.002938   \n",
      "pickup_latitude            -0.001217    -0.009227            -0.004430   \n",
      "dropoff_longitude          -0.000151     0.006943             0.003932   \n",
      "dropoff_latitude           -0.000387    -0.009638            -0.003091   \n",
      "passenger_count             1.000000     0.005307             0.012693   \n",
      "pickup_date                 0.005307     1.000000             0.002255   \n",
      "pickup_time_seconds         0.012693     0.002255             1.000000   \n",
      "z_score                     0.011326     0.132535            -0.023549   \n",
      "\n",
      "                      z_score  \n",
      "Unnamed: 0          -0.000381  \n",
      "fare_amount          1.000000  \n",
      "pickup_longitude    -0.000925  \n",
      "pickup_latitude      0.001456  \n",
      "dropoff_longitude   -0.002646  \n",
      "dropoff_latitude     0.001663  \n",
      "passenger_count      0.011326  \n",
      "pickup_date          0.132535  \n",
      "pickup_time_seconds -0.023549  \n",
      "z_score              1.000000  \n"
     ]
    }
   ],
   "source": [
    "correlation_matrix = data.corr()\n",
    "print(correlation_matrix)"
   ]
  },
  {
   "cell_type": "markdown",
   "id": "12fe1658",
   "metadata": {},
   "source": [
    "4.Implement linear regression and ridge, Lasso regression models"
   ]
  },
  {
   "cell_type": "code",
   "execution_count": 14,
   "id": "d48e2b42",
   "metadata": {},
   "outputs": [],
   "source": [
    "import matplotlib.pyplot as plt\n",
    "X = data[[\"pickup_longitude\", \"pickup_latitude\", \"dropoff_longitude\", \"dropoff_latitude\", \"passenger_count\"]]\n",
    "y = data[\"fare_amount\"]\n",
    "X_train, X_test, y_train, y_test = train_test_split(X, y, test_size=0.2)"
   ]
  },
  {
   "cell_type": "code",
   "execution_count": 15,
   "id": "68c21588",
   "metadata": {},
   "outputs": [
    {
     "name": "stdout",
     "output_type": "stream",
     "text": [
      "Linear Regression RMSE: 6.3377381387381835\n"
     ]
    },
    {
     "data": {
      "image/png": "[encoded data removed]",
      "text/plain": [
       "<Figure size 1200x600 with 1 Axes>"
      ]
     },
     "metadata": {},
     "output_type": "display_data"
    }
   ],
   "source": [
    "#Linear Regression\n",
    "linear_reg = LinearRegression()\n",
    "linear_reg.fit(X_train, y_train)\n",
    "linear_pred = linear_reg.predict(X_test)\n",
    "linear_rmse = mean_squared_error(y_test, linear_pred, squared=False)\n",
    "print(\"Linear Regression RMSE:\", linear_rmse)\n",
    "plt.figure(figsize=(12, 6))\n",
    "plt.bar(y_test, linear_pred, label='Linear Regression', alpha=0.5)\n",
    "plt.xlabel(\"Actual Price\")\n",
    "plt.ylabel(\"Predicted Price\")\n",
    "plt.legend()\n",
    "plt.show()"
   ]
  },
  {
   "cell_type": "code",
   "execution_count": 16,
   "id": "194b1ebd",
   "metadata": {},
   "outputs": [
    {
     "name": "stdout",
     "output_type": "stream",
     "text": [
      "Ridge Regression RMSE: 6.337738137775985\n"
     ]
    },
    {
     "data": {
      "image/png": "[encoded data removed]",
      "text/plain": [
       "<Figure size 1200x600 with 1 Axes>"
      ]
     },
     "metadata": {},
     "output_type": "display_data"
    }
   ],
   "source": [
    "#Ridge Regression\n",
    "ridge_reg = Ridge(alpha=1.0)\n",
    "ridge_reg.fit(X_train, y_train)\n",
    "ridge_pred = ridge_reg.predict(X_test)\n",
    "ridge_rmse = mean_squared_error(y_test, ridge_pred, squared=False)\n",
    "print(\"Ridge Regression RMSE:\", ridge_rmse)\n",
    "plt.figure(figsize=(12, 6))\n",
    "plt.scatter(y_test, ridge_pred, label='Ridge Regression', alpha=0.5)\n",
    "plt.xlabel(\"Actual Price\")\n",
    "plt.ylabel(\"Predicted Price\")\n",
    "plt.legend()\n",
    "plt.show()"
   ]
  },
  {
   "cell_type": "code",
   "execution_count": 17,
   "id": "3a8e4727",
   "metadata": {},
   "outputs": [
    {
     "name": "stdout",
     "output_type": "stream",
     "text": [
      "Lasso Regression RMSE: 6.337954513335515\n"
     ]
    },
    {
     "data": {
      "image/png": "[encoded data removed]",
      "text/plain": [
       "<Figure size 1200x600 with 1 Axes>"
      ]
     },
     "metadata": {},
     "output_type": "display_data"
    }
   ],
   "source": [
    "#Lasso Regression\n",
    "lasso_reg = Lasso(alpha=1.0)\n",
    "lasso_reg.fit(X_train, y_train)\n",
    "lasso_pred = lasso_reg.predict(X_test)\n",
    "lasso_rmse = mean_squared_error(y_test, lasso_pred, squared=False)\n",
    "print(\"Lasso Regression RMSE:\", lasso_rmse)\n",
    "plt.figure(figsize=(12, 6))\n",
    "plt.scatter(y_test, lasso_pred, label='Lasso Regression', alpha=0.5)\n",
    "plt.xlabel(\"Actual Price\")\n",
    "plt.ylabel(\"Predicted Price\")\n",
    "plt.legend()\n",
    "plt.show()"
   ]
  },
  {
   "cell_type": "markdown",
   "id": "f9c89d54",
   "metadata": {},
   "source": [
    "5. Evaluate the models and compare their respective scores like R2, RMSE, etc"
   ]
  },
  {
   "cell_type": "code",
   "execution_count": 18,
   "id": "2116ac15",
   "metadata": {},
   "outputs": [
    {
     "name": "stdout",
     "output_type": "stream",
     "text": [
      "R2 Scores:\n",
      "Linear Regression R2: -3.0358437544508732e-05\n",
      "Ridge Regression R2: -3.035813389429265e-05\n",
      "Lasso Regression R2: -9.864300692474792e-05\n",
      "\n",
      "RMSE Scores:\n",
      "Linear Regression RMSE: 6.3377381387381835\n",
      "Ridge Regression RMSE: 6.337738137775985\n",
      "Lasso Regression RMSE: 6.337954513335515\n"
     ]
    }
   ],
   "source": [
    "# Calculate R-squared (R2) scores\n",
    "linear_r2 = r2_score(y_test, linear_pred)\n",
    "ridge_r2 = r2_score(y_test, ridge_pred)\n",
    "lasso_r2 = r2_score(y_test, lasso_pred)\n",
    "\n",
    "# Calculate RMSE (Root Mean Squared Error)\n",
    "linear_rmse = mean_squared_error(y_test, linear_pred, squared=False)\n",
    "ridge_rmse = mean_squared_error(y_test, ridge_pred, squared=False)\n",
    "lasso_rmse = mean_squared_error(y_test, lasso_pred, squared=False)\n",
    "\n",
    "# Print the comparison of scores\n",
    "print(\"R2 Scores:\")\n",
    "print(\"Linear Regression R2:\", linear_r2)\n",
    "print(\"Ridge Regression R2:\", ridge_r2)\n",
    "print(\"Lasso Regression R2:\", lasso_r2)\n",
    "print(\"\\nRMSE Scores:\")\n",
    "print(\"Linear Regression RMSE:\", linear_rmse)\n",
    "print(\"Ridge Regression RMSE:\", ridge_rmse)\n",
    "print(\"Lasso Regression RMSE:\", lasso_rmse)\n",
    "\n"
   ]
  },
  {
   "cell_type": "code",
   "execution_count": null,
   "id": "bd774edb",
   "metadata": {},
   "outputs": [],
   "source": []
  }
 ],
 "metadata": {
  "kernelspec": {
   "display_name": "Python 3 (ipykernel)",
   "language": "python",
   "name": "python3"
  },
  "language_info": {
   "codemirror_mode": {
    "name": "ipython",
    "version": 3
   },
   "file_extension": ".py",
   "mimetype": "text/x-python",
   "name": "python",
   "nbconvert_exporter": "python",
   "pygments_lexer": "ipython3",
   "version": "3.11.5"
  }
 },
 "nbformat": 4,
 "nbformat_minor": 5
}
